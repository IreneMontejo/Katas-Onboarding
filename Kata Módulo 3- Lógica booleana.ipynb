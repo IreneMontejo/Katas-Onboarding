{
 "cells": [
  {
   "cell_type": "markdown",
   "metadata": {},
   "source": [
    "## Módulo 3: Uso de lógica booleana"
   ]
  },
  {
   "cell_type": "markdown",
   "metadata": {},
   "source": [
    " Problema 1"
   ]
  },
  {
   "cell_type": "code",
   "execution_count": 2,
   "metadata": {},
   "outputs": [
    {
     "name": "stdout",
     "output_type": "stream",
     "text": [
      "¡ALERTA! ¡Se acerca un asteroide a una velocidad peligrosa!\n"
     ]
    }
   ],
   "source": [
    "asteroide = 49\n",
    "if asteroide > 25:\n",
    "    print('¡ALERTA! ¡Se acerca un asteroide a una velocidad peligrosa!')\n",
    "else:\n",
    "     print('Todo en orden, ¡disfruta tu día!')"
   ]
  },
  {
   "cell_type": "markdown",
   "metadata": {},
   "source": [
    "Problema 2"
   ]
  },
  {
   "cell_type": "code",
   "execution_count": 6,
   "metadata": {},
   "outputs": [
    {
     "name": "stdout",
     "output_type": "stream",
     "text": [
      "Not a lot going on at the moment\n"
     ]
    }
   ],
   "source": [
    "asteroide = 19\n",
    "if asteroide > 20:\n",
    "    print('¡Mira hacia el cielo! ¡Disfruta de una luz mágica en el cielo!')\n",
    "elif asteroide == 20:\n",
    "    print('¡Mira hacia el cielo! ¡Disfruta de una luz mágica en el cielo!')\n",
    "else:\n",
    "    print('Not a lot going on at the moment.')\n",
    "\n"
   ]
  },
  {
   "cell_type": "markdown",
   "metadata": {},
   "source": [
    "Problema 3"
   ]
  },
  {
   "cell_type": "code",
   "execution_count": 13,
   "metadata": {},
   "outputs": [
    {
     "name": "stdout",
     "output_type": "stream",
     "text": [
      "Not a lot going on at the moment.\n"
     ]
    }
   ],
   "source": [
    "velocidad_asteroide = 15\n",
    "tamano_asteroide = 10\n",
    "if velocidad_asteroide > 25 and tamano_asteroide > 25:\n",
    "    print('¡Alerta, un asteroide muy peligroso se dirige a la Tierra!')\n",
    "elif velocidad_asteroide >= 20:\n",
    "    print('¡Mira hacia el cielo! ¡Disfruta de una luz mágica en el cielo!')\n",
    "elif tamano_asteroide < 25:\n",
    "    print('Not a lot going on at the moment.')\n",
    "else:\n",
    "    print('Not a lot going on at the moment.')"
   ]
  }
 ],
 "metadata": {
  "interpreter": {
   "hash": "38740d3277777e2cd7c6c2cc9d8addf5118fdf3f82b1b39231fd12aeac8aee8b"
  },
  "kernelspec": {
   "display_name": "Python 3.10.2 64-bit",
   "language": "python",
   "name": "python3"
  },
  "language_info": {
   "codemirror_mode": {
    "name": "ipython",
    "version": 3
   },
   "file_extension": ".py",
   "mimetype": "text/x-python",
   "name": "python",
   "nbconvert_exporter": "python",
   "pygments_lexer": "ipython3",
   "version": "3.10.2"
  },
  "orig_nbformat": 4
 },
 "nbformat": 4,
 "nbformat_minor": 2
}
